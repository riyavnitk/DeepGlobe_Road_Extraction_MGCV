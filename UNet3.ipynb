version https://git-lfs.github.com/spec/v1
oid sha256:eae60ad82b26186a99dfcee7b00a3a46aa4082f9b575729fb5b0d00be7a3c0cf
size 570173

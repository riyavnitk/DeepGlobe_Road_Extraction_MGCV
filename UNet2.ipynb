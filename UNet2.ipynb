version https://git-lfs.github.com/spec/v1
oid sha256:46511fc98a2349a32323fe34c8cf301cfc4da2cb5534b86cf1cacee1a3beb529
size 3522750
